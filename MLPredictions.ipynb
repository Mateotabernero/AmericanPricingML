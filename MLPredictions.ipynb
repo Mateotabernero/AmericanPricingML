{
 "cells": [
  {
   "cell_type": "code",
   "execution_count": 6,
   "id": "0a3b47a1",
   "metadata": {},
   "outputs": [],
   "source": [
    "import numpy as np \n",
    "import BinOP\n",
    "from sklearn.model_selection import train_test_split\n",
    "from sklearn.linear_model    import LinearRegression\n",
    "from sklearn.ensemble        import RandomForestRegressor\n",
    "from sklearn.metrics         import mean_squared_error, mean_absolute_error, r2_score"
   ]
  },
  {
   "cell_type": "code",
   "execution_count": null,
   "id": "dd9d1111",
   "metadata": {},
   "outputs": [],
   "source": []
  },
  {
   "cell_type": "markdown",
   "id": "8ac9683d",
   "metadata": {},
   "source": [
    "## Generating data"
   ]
  },
  {
   "cell_type": "markdown",
   "id": "2d8982c9",
   "metadata": {},
   "source": [
    "We start by obtaining the data to train our models. For that, we generate N random data points in the intervals defined above"
   ]
  },
  {
   "cell_type": "code",
   "execution_count": 4,
   "id": "d2de852a",
   "metadata": {},
   "outputs": [],
   "source": [
    "N  = 10000\n",
    "\n",
    "M0 = 0.4 \n",
    "Mf = 1.6 \n",
    "T0 = 0.2 \n",
    "Tf = 1.1\n",
    "r0 = 0.02\n",
    "rf = 0.1\n",
    "v0 = 0.01 \n",
    "vf = 1.0 "
   ]
  },
  {
   "cell_type": "code",
   "execution_count": 5,
   "id": "01d25ce1",
   "metadata": {},
   "outputs": [],
   "source": [
    "coordM = np.random.uniform(low = M0, high = Mf, size = N)\n",
    "coordT = np.random.uniform(low = T0, high = Tf, size = N)\n",
    "coordr = np.random.uniform(low = r0, high = rf, size = N)\n",
    "coordv = np.random.uniform(low = v0, high = vf, size = N)"
   ]
  },
  {
   "cell_type": "code",
   "execution_count": 7,
   "id": "209bbe8a",
   "metadata": {},
   "outputs": [],
   "source": [
    "target_values = BinOP.valueBinOp(coordr, coordv, coordM, coordT, 1, 'P', 'A', 32, gamma_par = 1) "
   ]
  },
  {
   "cell_type": "markdown",
   "id": "e96bdd98",
   "metadata": {},
   "source": [
    "And we split the data points generated into training and testing data"
   ]
  },
  {
   "cell_type": "code",
   "execution_count": 8,
   "id": "1a0678f9",
   "metadata": {},
   "outputs": [],
   "source": [
    "X_train, X_test, y_train, y_test = train_test_split(np.column_stack((coordM, coordT, coordr, coordv)), target_values, test_size = 0.2)"
   ]
  },
  {
   "cell_type": "markdown",
   "id": "a645d39c",
   "metadata": {},
   "source": [
    "##  Predictions"
   ]
  },
  {
   "cell_type": "markdown",
   "id": "333b5dd1",
   "metadata": {},
   "source": [
    "### Random forest"
   ]
  },
  {
   "cell_type": "code",
   "execution_count": 9,
   "id": "3495edf0",
   "metadata": {},
   "outputs": [
    {
     "data": {
      "text/html": [
       "<style>#sk-container-id-1 {color: black;background-color: white;}#sk-container-id-1 pre{padding: 0;}#sk-container-id-1 div.sk-toggleable {background-color: white;}#sk-container-id-1 label.sk-toggleable__label {cursor: pointer;display: block;width: 100%;margin-bottom: 0;padding: 0.3em;box-sizing: border-box;text-align: center;}#sk-container-id-1 label.sk-toggleable__label-arrow:before {content: \"▸\";float: left;margin-right: 0.25em;color: #696969;}#sk-container-id-1 label.sk-toggleable__label-arrow:hover:before {color: black;}#sk-container-id-1 div.sk-estimator:hover label.sk-toggleable__label-arrow:before {color: black;}#sk-container-id-1 div.sk-toggleable__content {max-height: 0;max-width: 0;overflow: hidden;text-align: left;background-color: #f0f8ff;}#sk-container-id-1 div.sk-toggleable__content pre {margin: 0.2em;color: black;border-radius: 0.25em;background-color: #f0f8ff;}#sk-container-id-1 input.sk-toggleable__control:checked~div.sk-toggleable__content {max-height: 200px;max-width: 100%;overflow: auto;}#sk-container-id-1 input.sk-toggleable__control:checked~label.sk-toggleable__label-arrow:before {content: \"▾\";}#sk-container-id-1 div.sk-estimator input.sk-toggleable__control:checked~label.sk-toggleable__label {background-color: #d4ebff;}#sk-container-id-1 div.sk-label input.sk-toggleable__control:checked~label.sk-toggleable__label {background-color: #d4ebff;}#sk-container-id-1 input.sk-hidden--visually {border: 0;clip: rect(1px 1px 1px 1px);clip: rect(1px, 1px, 1px, 1px);height: 1px;margin: -1px;overflow: hidden;padding: 0;position: absolute;width: 1px;}#sk-container-id-1 div.sk-estimator {font-family: monospace;background-color: #f0f8ff;border: 1px dotted black;border-radius: 0.25em;box-sizing: border-box;margin-bottom: 0.5em;}#sk-container-id-1 div.sk-estimator:hover {background-color: #d4ebff;}#sk-container-id-1 div.sk-parallel-item::after {content: \"\";width: 100%;border-bottom: 1px solid gray;flex-grow: 1;}#sk-container-id-1 div.sk-label:hover label.sk-toggleable__label {background-color: #d4ebff;}#sk-container-id-1 div.sk-serial::before {content: \"\";position: absolute;border-left: 1px solid gray;box-sizing: border-box;top: 0;bottom: 0;left: 50%;z-index: 0;}#sk-container-id-1 div.sk-serial {display: flex;flex-direction: column;align-items: center;background-color: white;padding-right: 0.2em;padding-left: 0.2em;position: relative;}#sk-container-id-1 div.sk-item {position: relative;z-index: 1;}#sk-container-id-1 div.sk-parallel {display: flex;align-items: stretch;justify-content: center;background-color: white;position: relative;}#sk-container-id-1 div.sk-item::before, #sk-container-id-1 div.sk-parallel-item::before {content: \"\";position: absolute;border-left: 1px solid gray;box-sizing: border-box;top: 0;bottom: 0;left: 50%;z-index: -1;}#sk-container-id-1 div.sk-parallel-item {display: flex;flex-direction: column;z-index: 1;position: relative;background-color: white;}#sk-container-id-1 div.sk-parallel-item:first-child::after {align-self: flex-end;width: 50%;}#sk-container-id-1 div.sk-parallel-item:last-child::after {align-self: flex-start;width: 50%;}#sk-container-id-1 div.sk-parallel-item:only-child::after {width: 0;}#sk-container-id-1 div.sk-dashed-wrapped {border: 1px dashed gray;margin: 0 0.4em 0.5em 0.4em;box-sizing: border-box;padding-bottom: 0.4em;background-color: white;}#sk-container-id-1 div.sk-label label {font-family: monospace;font-weight: bold;display: inline-block;line-height: 1.2em;}#sk-container-id-1 div.sk-label-container {text-align: center;}#sk-container-id-1 div.sk-container {/* jupyter's `normalize.less` sets `[hidden] { display: none; }` but bootstrap.min.css set `[hidden] { display: none !important; }` so we also need the `!important` here to be able to override the default hidden behavior on the sphinx rendered scikit-learn.org. See: https://github.com/scikit-learn/scikit-learn/issues/21755 */display: inline-block !important;position: relative;}#sk-container-id-1 div.sk-text-repr-fallback {display: none;}</style><div id=\"sk-container-id-1\" class=\"sk-top-container\"><div class=\"sk-text-repr-fallback\"><pre>RandomForestRegressor()</pre><b>In a Jupyter environment, please rerun this cell to show the HTML representation or trust the notebook. <br />On GitHub, the HTML representation is unable to render, please try loading this page with nbviewer.org.</b></div><div class=\"sk-container\" hidden><div class=\"sk-item\"><div class=\"sk-estimator sk-toggleable\"><input class=\"sk-toggleable__control sk-hidden--visually\" id=\"sk-estimator-id-1\" type=\"checkbox\" checked><label for=\"sk-estimator-id-1\" class=\"sk-toggleable__label sk-toggleable__label-arrow\">RandomForestRegressor</label><div class=\"sk-toggleable__content\"><pre>RandomForestRegressor()</pre></div></div></div></div></div>"
      ],
      "text/plain": [
       "RandomForestRegressor()"
      ]
     },
     "execution_count": 9,
     "metadata": {},
     "output_type": "execute_result"
    }
   ],
   "source": [
    "RF_model = RandomForestRegressor(n_estimators = 100) \n",
    "RF_model.fit(X_train, y_train)"
   ]
  },
  {
   "cell_type": "code",
   "execution_count": 11,
   "id": "1264a5f7",
   "metadata": {},
   "outputs": [],
   "source": [
    "RF_predictions = RF_model.predict(X_test)"
   ]
  },
  {
   "cell_type": "code",
   "execution_count": 12,
   "id": "efebdb17",
   "metadata": {},
   "outputs": [],
   "source": [
    "RF_mse  = mean_squared_error(y_test, RF_predictions) \n",
    "RF_rmse = np.sqrt(RF_mse)\n",
    "RF_mae  = mean_absolute_error(y_test, RF_predictions)\n",
    "RF_r2   = r2_score(y_test, RF_predictions) "
   ]
  },
  {
   "cell_type": "code",
   "execution_count": 13,
   "id": "bd101194",
   "metadata": {},
   "outputs": [
    {
     "name": "stdout",
     "output_type": "stream",
     "text": [
      "MSE: 3.4073683252883386e-05\n",
      "RMSE: 0.005837266762182741\n",
      "MAE: 0.0037968289295376633\n",
      "R2: 0.9989069651588821\n"
     ]
    }
   ],
   "source": [
    "print(\"MSE: \"  + str(RF_mse)) \n",
    "print(\"RMSE: \" + str(RF_rmse))\n",
    "print(\"MAE: \"  + str(RF_mae))\n",
    "print(\"R2: \"   + str(RF_r2))"
   ]
  },
  {
   "cell_type": "code",
   "execution_count": null,
   "id": "1701b205",
   "metadata": {},
   "outputs": [],
   "source": []
  }
 ],
 "metadata": {
  "kernelspec": {
   "display_name": "Python 3 (ipykernel)",
   "language": "python",
   "name": "python3"
  },
  "language_info": {
   "codemirror_mode": {
    "name": "ipython",
    "version": 3
   },
   "file_extension": ".py",
   "mimetype": "text/x-python",
   "name": "python",
   "nbconvert_exporter": "python",
   "pygments_lexer": "ipython3",
   "version": "3.9.13"
  }
 },
 "nbformat": 4,
 "nbformat_minor": 5
}
