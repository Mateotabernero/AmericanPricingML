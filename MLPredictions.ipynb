{
 "cells": [
  {
   "cell_type": "code",
   "execution_count": 26,
   "id": "fe668a5d",
   "metadata": {},
   "outputs": [
    {
     "name": "stdout",
     "output_type": "stream",
     "text": [
      "Collecting xgboost\n",
      "  Downloading xgboost-1.7.6-py3-none-win_amd64.whl (70.9 MB)\n",
      "     --------------------------------------- 70.9/70.9 MB 31.2 MB/s eta 0:00:00\n",
      "Requirement already satisfied: numpy in c:\\users\\mateo\\anaconda3\\lib\\site-packages (from xgboost) (1.25.2)\n",
      "Requirement already satisfied: scipy in c:\\users\\mateo\\anaconda3\\lib\\site-packages (from xgboost) (1.11.2)\n",
      "Installing collected packages: xgboost\n",
      "Successfully installed xgboost-1.7.6\n",
      "Note: you may need to restart the kernel to use updated packages.\n"
     ]
    }
   ],
   "source": [
    "pip install xgboost"
   ]
  },
  {
   "cell_type": "code",
   "execution_count": 46,
   "id": "0a3b47a1",
   "metadata": {},
   "outputs": [],
   "source": [
    "import numpy as np \n",
    "import BinOP\n",
    "from sklearn.model_selection    import train_test_split\n",
    "from sklearn.linear_model       import LinearRegression\n",
    "from sklearn.ensemble           import RandomForestRegressor\n",
    "from sklearn.metrics            import mean_squared_error, mean_absolute_error, r2_score\n",
    "from sklearn.svm                import SVR\n",
    "import xgboost as xgb\n",
    "import tensorflow as tf\n",
    "from tensorflow                 import keras\n",
    "\n",
    "from tensorflow.keras.callbacks import EarlyStopping"
   ]
  },
  {
   "cell_type": "markdown",
   "id": "b8d13c5f",
   "metadata": {},
   "source": [
    "## Generating data"
   ]
  },
  {
   "cell_type": "markdown",
   "id": "1ce917eb",
   "metadata": {},
   "source": [
    "We start by obtaining the data to train our models. For that, we generate N random data points in the intervals defined above"
   ]
  },
  {
   "cell_type": "code",
   "execution_count": 15,
   "id": "000bf888",
   "metadata": {},
   "outputs": [],
   "source": [
    "N  = 10000\n",
    "\n",
    "M0 = 0.4 \n",
    "Mf = 1.6 \n",
    "T0 = 0.2 \n",
    "Tf = 1.1\n",
    "r0 = 0.02\n",
    "rf = 0.1\n",
    "v0 = 0.01 \n",
    "vf = 1.0 "
   ]
  },
  {
   "cell_type": "code",
   "execution_count": 16,
   "id": "e7b02b3f",
   "metadata": {},
   "outputs": [],
   "source": [
    "coordM = np.random.uniform(low = M0, high = Mf, size = N)\n",
    "coordT = np.random.uniform(low = T0, high = Tf, size = N)\n",
    "coordr = np.random.uniform(low = r0, high = rf, size = N)\n",
    "coordv = np.random.uniform(low = v0, high = vf, size = N)"
   ]
  },
  {
   "cell_type": "code",
   "execution_count": 17,
   "id": "6beaee81",
   "metadata": {},
   "outputs": [],
   "source": [
    "target_values = BinOP.valueBinOp(coordr, coordv, coordM, coordT, 1, 'P', 'A', 32, gamma_par = 1) "
   ]
  },
  {
   "cell_type": "markdown",
   "id": "36cb3f8c",
   "metadata": {},
   "source": [
    "And we split the data points generated into training and testing data"
   ]
  },
  {
   "cell_type": "code",
   "execution_count": 18,
   "id": "12ec171a",
   "metadata": {},
   "outputs": [],
   "source": [
    "X_train, X_test, y_train, y_test = train_test_split(np.column_stack((coordM, coordT, coordr, coordv)), target_values, test_size = 0.2)"
   ]
  },
  {
   "cell_type": "markdown",
   "id": "2126d356",
   "metadata": {},
   "source": [
    "##  Predictions"
   ]
  },
  {
   "cell_type": "markdown",
   "id": "f3ca9c6f",
   "metadata": {},
   "source": [
    "### Random forest"
   ]
  },
  {
   "cell_type": "code",
   "execution_count": 20,
   "id": "8b464260",
   "metadata": {},
   "outputs": [
    {
     "data": {
      "text/html": [
       "<style>#sk-container-id-3 {color: black;background-color: white;}#sk-container-id-3 pre{padding: 0;}#sk-container-id-3 div.sk-toggleable {background-color: white;}#sk-container-id-3 label.sk-toggleable__label {cursor: pointer;display: block;width: 100%;margin-bottom: 0;padding: 0.3em;box-sizing: border-box;text-align: center;}#sk-container-id-3 label.sk-toggleable__label-arrow:before {content: \"▸\";float: left;margin-right: 0.25em;color: #696969;}#sk-container-id-3 label.sk-toggleable__label-arrow:hover:before {color: black;}#sk-container-id-3 div.sk-estimator:hover label.sk-toggleable__label-arrow:before {color: black;}#sk-container-id-3 div.sk-toggleable__content {max-height: 0;max-width: 0;overflow: hidden;text-align: left;background-color: #f0f8ff;}#sk-container-id-3 div.sk-toggleable__content pre {margin: 0.2em;color: black;border-radius: 0.25em;background-color: #f0f8ff;}#sk-container-id-3 input.sk-toggleable__control:checked~div.sk-toggleable__content {max-height: 200px;max-width: 100%;overflow: auto;}#sk-container-id-3 input.sk-toggleable__control:checked~label.sk-toggleable__label-arrow:before {content: \"▾\";}#sk-container-id-3 div.sk-estimator input.sk-toggleable__control:checked~label.sk-toggleable__label {background-color: #d4ebff;}#sk-container-id-3 div.sk-label input.sk-toggleable__control:checked~label.sk-toggleable__label {background-color: #d4ebff;}#sk-container-id-3 input.sk-hidden--visually {border: 0;clip: rect(1px 1px 1px 1px);clip: rect(1px, 1px, 1px, 1px);height: 1px;margin: -1px;overflow: hidden;padding: 0;position: absolute;width: 1px;}#sk-container-id-3 div.sk-estimator {font-family: monospace;background-color: #f0f8ff;border: 1px dotted black;border-radius: 0.25em;box-sizing: border-box;margin-bottom: 0.5em;}#sk-container-id-3 div.sk-estimator:hover {background-color: #d4ebff;}#sk-container-id-3 div.sk-parallel-item::after {content: \"\";width: 100%;border-bottom: 1px solid gray;flex-grow: 1;}#sk-container-id-3 div.sk-label:hover label.sk-toggleable__label {background-color: #d4ebff;}#sk-container-id-3 div.sk-serial::before {content: \"\";position: absolute;border-left: 1px solid gray;box-sizing: border-box;top: 0;bottom: 0;left: 50%;z-index: 0;}#sk-container-id-3 div.sk-serial {display: flex;flex-direction: column;align-items: center;background-color: white;padding-right: 0.2em;padding-left: 0.2em;position: relative;}#sk-container-id-3 div.sk-item {position: relative;z-index: 1;}#sk-container-id-3 div.sk-parallel {display: flex;align-items: stretch;justify-content: center;background-color: white;position: relative;}#sk-container-id-3 div.sk-item::before, #sk-container-id-3 div.sk-parallel-item::before {content: \"\";position: absolute;border-left: 1px solid gray;box-sizing: border-box;top: 0;bottom: 0;left: 50%;z-index: -1;}#sk-container-id-3 div.sk-parallel-item {display: flex;flex-direction: column;z-index: 1;position: relative;background-color: white;}#sk-container-id-3 div.sk-parallel-item:first-child::after {align-self: flex-end;width: 50%;}#sk-container-id-3 div.sk-parallel-item:last-child::after {align-self: flex-start;width: 50%;}#sk-container-id-3 div.sk-parallel-item:only-child::after {width: 0;}#sk-container-id-3 div.sk-dashed-wrapped {border: 1px dashed gray;margin: 0 0.4em 0.5em 0.4em;box-sizing: border-box;padding-bottom: 0.4em;background-color: white;}#sk-container-id-3 div.sk-label label {font-family: monospace;font-weight: bold;display: inline-block;line-height: 1.2em;}#sk-container-id-3 div.sk-label-container {text-align: center;}#sk-container-id-3 div.sk-container {/* jupyter's `normalize.less` sets `[hidden] { display: none; }` but bootstrap.min.css set `[hidden] { display: none !important; }` so we also need the `!important` here to be able to override the default hidden behavior on the sphinx rendered scikit-learn.org. See: https://github.com/scikit-learn/scikit-learn/issues/21755 */display: inline-block !important;position: relative;}#sk-container-id-3 div.sk-text-repr-fallback {display: none;}</style><div id=\"sk-container-id-3\" class=\"sk-top-container\"><div class=\"sk-text-repr-fallback\"><pre>RandomForestRegressor()</pre><b>In a Jupyter environment, please rerun this cell to show the HTML representation or trust the notebook. <br />On GitHub, the HTML representation is unable to render, please try loading this page with nbviewer.org.</b></div><div class=\"sk-container\" hidden><div class=\"sk-item\"><div class=\"sk-estimator sk-toggleable\"><input class=\"sk-toggleable__control sk-hidden--visually\" id=\"sk-estimator-id-3\" type=\"checkbox\" checked><label for=\"sk-estimator-id-3\" class=\"sk-toggleable__label sk-toggleable__label-arrow\">RandomForestRegressor</label><div class=\"sk-toggleable__content\"><pre>RandomForestRegressor()</pre></div></div></div></div></div>"
      ],
      "text/plain": [
       "RandomForestRegressor()"
      ]
     },
     "execution_count": 20,
     "metadata": {},
     "output_type": "execute_result"
    }
   ],
   "source": [
    "rf_model = RandomForestRegressor(n_estimators = 100) \n",
    "rf_model.fit(X_train, y_train)"
   ]
  },
  {
   "cell_type": "code",
   "execution_count": 21,
   "id": "9b0b1bd6",
   "metadata": {},
   "outputs": [],
   "source": [
    "rf_predictions = rf_model.predict(X_test)"
   ]
  },
  {
   "cell_type": "code",
   "execution_count": 33,
   "id": "8738e189",
   "metadata": {},
   "outputs": [],
   "source": [
    "rf_mse  = mean_squared_error(y_test, rf_predictions) \n",
    "rf_rmse = np.sqrt(rf_mse)\n",
    "rf_mae  = mean_absolute_error(y_test, rf_predictions)\n",
    "rf_r2   = r2_score(y_test, rf_predictions) "
   ]
  },
  {
   "cell_type": "code",
   "execution_count": 23,
   "id": "501fefc2",
   "metadata": {},
   "outputs": [
    {
     "name": "stdout",
     "output_type": "stream",
     "text": [
      "MSE: 3.4073683252883386e-05\n",
      "RMSE: 0.005837266762182741\n",
      "MAE: 0.0037968289295376633\n",
      "R2: 0.9989069651588821\n"
     ]
    }
   ],
   "source": [
    "print(\"MSE: \"  + str(RF_mse)) \n",
    "print(\"RMSE: \" + str(RF_rmse))\n",
    "print(\"MAE: \"  + str(RF_mae))\n",
    "print(\"R2: \"   + str(RF_r2))"
   ]
  },
  {
   "cell_type": "markdown",
   "id": "1f864a6d",
   "metadata": {},
   "source": [
    "### Kernel methods"
   ]
  },
  {
   "cell_type": "code",
   "execution_count": 30,
   "id": "761c358c",
   "metadata": {},
   "outputs": [],
   "source": [
    "svr_model = SVR(kernel = 'rbf')"
   ]
  },
  {
   "cell_type": "code",
   "execution_count": 31,
   "id": "c4f1cd26",
   "metadata": {},
   "outputs": [
    {
     "data": {
      "text/html": [
       "<style>#sk-container-id-4 {color: black;background-color: white;}#sk-container-id-4 pre{padding: 0;}#sk-container-id-4 div.sk-toggleable {background-color: white;}#sk-container-id-4 label.sk-toggleable__label {cursor: pointer;display: block;width: 100%;margin-bottom: 0;padding: 0.3em;box-sizing: border-box;text-align: center;}#sk-container-id-4 label.sk-toggleable__label-arrow:before {content: \"▸\";float: left;margin-right: 0.25em;color: #696969;}#sk-container-id-4 label.sk-toggleable__label-arrow:hover:before {color: black;}#sk-container-id-4 div.sk-estimator:hover label.sk-toggleable__label-arrow:before {color: black;}#sk-container-id-4 div.sk-toggleable__content {max-height: 0;max-width: 0;overflow: hidden;text-align: left;background-color: #f0f8ff;}#sk-container-id-4 div.sk-toggleable__content pre {margin: 0.2em;color: black;border-radius: 0.25em;background-color: #f0f8ff;}#sk-container-id-4 input.sk-toggleable__control:checked~div.sk-toggleable__content {max-height: 200px;max-width: 100%;overflow: auto;}#sk-container-id-4 input.sk-toggleable__control:checked~label.sk-toggleable__label-arrow:before {content: \"▾\";}#sk-container-id-4 div.sk-estimator input.sk-toggleable__control:checked~label.sk-toggleable__label {background-color: #d4ebff;}#sk-container-id-4 div.sk-label input.sk-toggleable__control:checked~label.sk-toggleable__label {background-color: #d4ebff;}#sk-container-id-4 input.sk-hidden--visually {border: 0;clip: rect(1px 1px 1px 1px);clip: rect(1px, 1px, 1px, 1px);height: 1px;margin: -1px;overflow: hidden;padding: 0;position: absolute;width: 1px;}#sk-container-id-4 div.sk-estimator {font-family: monospace;background-color: #f0f8ff;border: 1px dotted black;border-radius: 0.25em;box-sizing: border-box;margin-bottom: 0.5em;}#sk-container-id-4 div.sk-estimator:hover {background-color: #d4ebff;}#sk-container-id-4 div.sk-parallel-item::after {content: \"\";width: 100%;border-bottom: 1px solid gray;flex-grow: 1;}#sk-container-id-4 div.sk-label:hover label.sk-toggleable__label {background-color: #d4ebff;}#sk-container-id-4 div.sk-serial::before {content: \"\";position: absolute;border-left: 1px solid gray;box-sizing: border-box;top: 0;bottom: 0;left: 50%;z-index: 0;}#sk-container-id-4 div.sk-serial {display: flex;flex-direction: column;align-items: center;background-color: white;padding-right: 0.2em;padding-left: 0.2em;position: relative;}#sk-container-id-4 div.sk-item {position: relative;z-index: 1;}#sk-container-id-4 div.sk-parallel {display: flex;align-items: stretch;justify-content: center;background-color: white;position: relative;}#sk-container-id-4 div.sk-item::before, #sk-container-id-4 div.sk-parallel-item::before {content: \"\";position: absolute;border-left: 1px solid gray;box-sizing: border-box;top: 0;bottom: 0;left: 50%;z-index: -1;}#sk-container-id-4 div.sk-parallel-item {display: flex;flex-direction: column;z-index: 1;position: relative;background-color: white;}#sk-container-id-4 div.sk-parallel-item:first-child::after {align-self: flex-end;width: 50%;}#sk-container-id-4 div.sk-parallel-item:last-child::after {align-self: flex-start;width: 50%;}#sk-container-id-4 div.sk-parallel-item:only-child::after {width: 0;}#sk-container-id-4 div.sk-dashed-wrapped {border: 1px dashed gray;margin: 0 0.4em 0.5em 0.4em;box-sizing: border-box;padding-bottom: 0.4em;background-color: white;}#sk-container-id-4 div.sk-label label {font-family: monospace;font-weight: bold;display: inline-block;line-height: 1.2em;}#sk-container-id-4 div.sk-label-container {text-align: center;}#sk-container-id-4 div.sk-container {/* jupyter's `normalize.less` sets `[hidden] { display: none; }` but bootstrap.min.css set `[hidden] { display: none !important; }` so we also need the `!important` here to be able to override the default hidden behavior on the sphinx rendered scikit-learn.org. See: https://github.com/scikit-learn/scikit-learn/issues/21755 */display: inline-block !important;position: relative;}#sk-container-id-4 div.sk-text-repr-fallback {display: none;}</style><div id=\"sk-container-id-4\" class=\"sk-top-container\"><div class=\"sk-text-repr-fallback\"><pre>SVR()</pre><b>In a Jupyter environment, please rerun this cell to show the HTML representation or trust the notebook. <br />On GitHub, the HTML representation is unable to render, please try loading this page with nbviewer.org.</b></div><div class=\"sk-container\" hidden><div class=\"sk-item\"><div class=\"sk-estimator sk-toggleable\"><input class=\"sk-toggleable__control sk-hidden--visually\" id=\"sk-estimator-id-4\" type=\"checkbox\" checked><label for=\"sk-estimator-id-4\" class=\"sk-toggleable__label sk-toggleable__label-arrow\">SVR</label><div class=\"sk-toggleable__content\"><pre>SVR()</pre></div></div></div></div></div>"
      ],
      "text/plain": [
       "SVR()"
      ]
     },
     "execution_count": 31,
     "metadata": {},
     "output_type": "execute_result"
    }
   ],
   "source": [
    "svr_model.fit(X_train, y_train)"
   ]
  },
  {
   "cell_type": "code",
   "execution_count": 32,
   "id": "67ccbb99",
   "metadata": {},
   "outputs": [],
   "source": [
    "svr_predictions = svr_model.predict(X_test) "
   ]
  },
  {
   "cell_type": "code",
   "execution_count": 34,
   "id": "fc0bf2e4",
   "metadata": {},
   "outputs": [],
   "source": [
    "svr_mse  = mean_squared_error(y_test, svr_predictions) \n",
    "svr_rmse = np.sqrt(svr_mse) \n",
    "svr_mae  = mean_absolute_error(y_test, svr_predictions) \n",
    "svr_r2   = r2_score(y_test, svr_predictions) "
   ]
  },
  {
   "cell_type": "code",
   "execution_count": 35,
   "id": "435726c4",
   "metadata": {},
   "outputs": [
    {
     "name": "stdout",
     "output_type": "stream",
     "text": [
      "MSE: 0.0011876628820207578\n",
      "RMSE: 0.0344624851399425\n",
      "MAE: 0.0274330120492494\n",
      "R2: 0.9622948457413356\n"
     ]
    }
   ],
   "source": [
    "print(\"MSE: \"  + str(svr_mse))\n",
    "print(\"RMSE: \" + str(svr_rmse))\n",
    "print(\"MAE: \"  + str(svr_mae))\n",
    "print(\"R2: \"   + str(svr_r2))"
   ]
  },
  {
   "cell_type": "markdown",
   "id": "93dda9bc",
   "metadata": {},
   "source": [
    "### Neural Networks"
   ]
  },
  {
   "cell_type": "code",
   "execution_count": 47,
   "id": "5fcf4e7e",
   "metadata": {},
   "outputs": [],
   "source": [
    "nn_model = keras.Sequential([\n",
    "    keras.layers.Dense(64, activation = 'relu', input_shape = (4,)),\n",
    "    keras.layers.Dense(32, activation = 'relu'),\n",
    "    keras.layers.Dense(1) \n",
    "])"
   ]
  },
  {
   "cell_type": "code",
   "execution_count": 51,
   "id": "69dab2c2",
   "metadata": {},
   "outputs": [],
   "source": [
    "early_stopping = EarlyStopping(monitor='val_loss', patience=10, restore_best_weights=True)\n",
    "nn_model.compile(optimizer = 'adam', loss = 'mean_squared_error') "
   ]
  },
  {
   "cell_type": "code",
   "execution_count": 52,
   "id": "bc73305a",
   "metadata": {},
   "outputs": [
    {
     "name": "stdout",
     "output_type": "stream",
     "text": [
      "Epoch 1/100\n",
      "500/500 [==============================] - 3s 5ms/step - loss: 5.4146e-05 - val_loss: 2.5363e-05\n",
      "Epoch 2/100\n",
      "500/500 [==============================] - 2s 4ms/step - loss: 4.2286e-05 - val_loss: 3.5958e-05\n",
      "Epoch 3/100\n",
      "500/500 [==============================] - 2s 4ms/step - loss: 3.5280e-05 - val_loss: 2.2933e-05\n",
      "Epoch 4/100\n",
      "500/500 [==============================] - 2s 4ms/step - loss: 3.3425e-05 - val_loss: 2.8516e-05\n",
      "Epoch 5/100\n",
      "500/500 [==============================] - 2s 4ms/step - loss: 3.2541e-05 - val_loss: 3.0144e-05\n",
      "Epoch 6/100\n",
      "500/500 [==============================] - 2s 4ms/step - loss: 2.2778e-05 - val_loss: 1.9851e-05\n",
      "Epoch 7/100\n",
      "500/500 [==============================] - 2s 4ms/step - loss: 2.6070e-05 - val_loss: 2.5988e-05\n",
      "Epoch 8/100\n",
      "500/500 [==============================] - 2s 4ms/step - loss: 2.3034e-05 - val_loss: 2.0204e-05\n",
      "Epoch 9/100\n",
      "500/500 [==============================] - 2s 4ms/step - loss: 2.3565e-05 - val_loss: 2.3484e-05\n",
      "Epoch 10/100\n",
      "500/500 [==============================] - 2s 4ms/step - loss: 2.7143e-05 - val_loss: 3.0080e-05\n",
      "Epoch 11/100\n",
      "500/500 [==============================] - 2s 4ms/step - loss: 2.2386e-05 - val_loss: 1.1990e-05\n",
      "Epoch 12/100\n",
      "500/500 [==============================] - 2s 4ms/step - loss: 1.9099e-05 - val_loss: 1.1408e-05\n",
      "Epoch 13/100\n",
      "500/500 [==============================] - 2s 4ms/step - loss: 1.5789e-05 - val_loss: 1.3297e-05\n",
      "Epoch 14/100\n",
      "500/500 [==============================] - 2s 4ms/step - loss: 2.2820e-05 - val_loss: 1.9205e-05\n",
      "Epoch 15/100\n",
      "500/500 [==============================] - 2s 4ms/step - loss: 1.8890e-05 - val_loss: 9.1850e-06\n",
      "Epoch 16/100\n",
      "500/500 [==============================] - 2s 4ms/step - loss: 1.7461e-05 - val_loss: 1.5326e-05\n",
      "Epoch 17/100\n",
      "500/500 [==============================] - 2s 4ms/step - loss: 1.9357e-05 - val_loss: 8.6733e-06\n",
      "Epoch 18/100\n",
      "500/500 [==============================] - 2s 4ms/step - loss: 1.6946e-05 - val_loss: 1.0728e-05\n",
      "Epoch 19/100\n",
      "500/500 [==============================] - 2s 4ms/step - loss: 1.9681e-05 - val_loss: 2.8782e-05\n",
      "Epoch 20/100\n",
      "500/500 [==============================] - 2s 4ms/step - loss: 1.3507e-05 - val_loss: 1.4085e-05\n",
      "Epoch 21/100\n",
      "500/500 [==============================] - 2s 4ms/step - loss: 1.7132e-05 - val_loss: 1.6447e-05\n",
      "Epoch 22/100\n",
      "500/500 [==============================] - 2s 4ms/step - loss: 1.6776e-05 - val_loss: 1.0835e-05\n",
      "Epoch 23/100\n",
      "500/500 [==============================] - 2s 4ms/step - loss: 1.4802e-05 - val_loss: 1.0562e-05\n",
      "Epoch 24/100\n",
      "500/500 [==============================] - 2s 4ms/step - loss: 1.8077e-05 - val_loss: 9.5165e-06\n",
      "Epoch 25/100\n",
      "500/500 [==============================] - 2s 4ms/step - loss: 1.2250e-05 - val_loss: 8.2390e-06\n",
      "Epoch 26/100\n",
      "500/500 [==============================] - 2s 4ms/step - loss: 1.9536e-05 - val_loss: 4.5091e-05\n",
      "Epoch 27/100\n",
      "500/500 [==============================] - 2s 4ms/step - loss: 1.2624e-05 - val_loss: 1.4096e-05\n",
      "Epoch 28/100\n",
      "500/500 [==============================] - 2s 4ms/step - loss: 1.2702e-05 - val_loss: 2.5871e-05\n",
      "Epoch 29/100\n",
      "500/500 [==============================] - 2s 4ms/step - loss: 1.6741e-05 - val_loss: 8.0357e-06\n",
      "Epoch 30/100\n",
      "500/500 [==============================] - 2s 4ms/step - loss: 1.3672e-05 - val_loss: 1.2751e-05\n",
      "Epoch 31/100\n",
      "500/500 [==============================] - 2s 4ms/step - loss: 1.4386e-05 - val_loss: 7.6190e-06\n",
      "Epoch 32/100\n",
      "500/500 [==============================] - 2s 4ms/step - loss: 1.2118e-05 - val_loss: 1.6920e-05\n",
      "Epoch 33/100\n",
      "500/500 [==============================] - 2s 4ms/step - loss: 1.0947e-05 - val_loss: 1.0364e-05\n",
      "Epoch 34/100\n",
      "500/500 [==============================] - 2s 4ms/step - loss: 1.5698e-05 - val_loss: 8.4051e-06\n",
      "Epoch 35/100\n",
      "500/500 [==============================] - 2s 4ms/step - loss: 1.3612e-05 - val_loss: 6.7043e-06\n",
      "Epoch 36/100\n",
      "500/500 [==============================] - 2s 4ms/step - loss: 1.2772e-05 - val_loss: 7.0626e-06\n",
      "Epoch 37/100\n",
      "500/500 [==============================] - 2s 4ms/step - loss: 1.0214e-05 - val_loss: 1.4820e-05\n",
      "Epoch 38/100\n",
      "500/500 [==============================] - 2s 4ms/step - loss: 1.0508e-05 - val_loss: 8.9349e-06\n",
      "Epoch 39/100\n",
      "500/500 [==============================] - 2s 4ms/step - loss: 1.2705e-05 - val_loss: 7.4361e-06\n",
      "Epoch 40/100\n",
      "500/500 [==============================] - 2s 4ms/step - loss: 9.1123e-06 - val_loss: 5.6688e-06\n",
      "Epoch 41/100\n",
      "500/500 [==============================] - 2s 4ms/step - loss: 1.1388e-05 - val_loss: 6.2475e-06\n",
      "Epoch 42/100\n",
      "500/500 [==============================] - 2s 4ms/step - loss: 1.0239e-05 - val_loss: 7.7815e-06\n",
      "Epoch 43/100\n",
      "500/500 [==============================] - 2s 4ms/step - loss: 9.8749e-06 - val_loss: 8.5934e-06\n",
      "Epoch 44/100\n",
      "500/500 [==============================] - 2s 4ms/step - loss: 1.0953e-05 - val_loss: 1.4670e-05\n",
      "Epoch 45/100\n",
      "500/500 [==============================] - 2s 4ms/step - loss: 1.0770e-05 - val_loss: 1.0127e-05\n",
      "Epoch 46/100\n",
      "500/500 [==============================] - 2s 4ms/step - loss: 9.9263e-06 - val_loss: 1.5158e-05\n",
      "Epoch 47/100\n",
      "500/500 [==============================] - 2s 4ms/step - loss: 9.4479e-06 - val_loss: 6.6584e-06\n",
      "Epoch 48/100\n",
      "500/500 [==============================] - 2s 4ms/step - loss: 8.5880e-06 - val_loss: 5.8333e-06\n",
      "Epoch 49/100\n",
      "500/500 [==============================] - 2s 4ms/step - loss: 1.3126e-05 - val_loss: 8.0207e-06\n",
      "Epoch 50/100\n",
      "500/500 [==============================] - 2s 4ms/step - loss: 8.2644e-06 - val_loss: 1.2235e-05\n",
      "Epoch 51/100\n",
      "500/500 [==============================] - 2s 4ms/step - loss: 9.2807e-06 - val_loss: 9.7603e-06\n",
      "Epoch 52/100\n",
      "500/500 [==============================] - 2s 4ms/step - loss: 8.9956e-06 - val_loss: 6.0833e-06\n",
      "Epoch 53/100\n",
      "500/500 [==============================] - 2s 4ms/step - loss: 8.4773e-06 - val_loss: 4.4204e-06\n",
      "Epoch 54/100\n",
      "500/500 [==============================] - 2s 4ms/step - loss: 6.6031e-06 - val_loss: 4.5021e-06\n",
      "Epoch 55/100\n",
      "500/500 [==============================] - 2s 4ms/step - loss: 9.9530e-06 - val_loss: 6.6231e-06\n",
      "Epoch 56/100\n",
      "500/500 [==============================] - 2s 4ms/step - loss: 7.0688e-06 - val_loss: 5.0787e-06\n",
      "Epoch 57/100\n",
      "500/500 [==============================] - 2s 4ms/step - loss: 7.1848e-06 - val_loss: 5.4726e-06\n",
      "Epoch 58/100\n",
      "500/500 [==============================] - 2s 5ms/step - loss: 7.8453e-06 - val_loss: 4.6396e-06\n",
      "Epoch 59/100\n",
      "500/500 [==============================] - 2s 4ms/step - loss: 7.5337e-06 - val_loss: 9.4435e-06\n",
      "Epoch 60/100\n",
      "500/500 [==============================] - 2s 4ms/step - loss: 7.8990e-06 - val_loss: 8.0295e-06\n",
      "Epoch 61/100\n",
      "500/500 [==============================] - 2s 4ms/step - loss: 6.1760e-06 - val_loss: 6.4542e-06\n",
      "Epoch 62/100\n",
      "500/500 [==============================] - 2s 4ms/step - loss: 6.7586e-06 - val_loss: 9.5145e-06\n",
      "Epoch 63/100\n",
      "500/500 [==============================] - 2s 4ms/step - loss: 6.2583e-06 - val_loss: 3.2538e-06\n",
      "Epoch 64/100\n",
      "500/500 [==============================] - 2s 4ms/step - loss: 8.3051e-06 - val_loss: 4.9549e-06\n",
      "Epoch 65/100\n",
      "500/500 [==============================] - 2s 4ms/step - loss: 6.3248e-06 - val_loss: 3.5493e-06\n",
      "Epoch 66/100\n",
      "500/500 [==============================] - 2s 5ms/step - loss: 5.1546e-06 - val_loss: 4.1156e-06\n",
      "Epoch 67/100\n",
      "500/500 [==============================] - 2s 5ms/step - loss: 6.8531e-06 - val_loss: 7.9422e-06\n",
      "Epoch 68/100\n",
      "500/500 [==============================] - 2s 4ms/step - loss: 6.3353e-06 - val_loss: 5.8669e-06\n",
      "Epoch 69/100\n",
      "500/500 [==============================] - 2s 5ms/step - loss: 5.8558e-06 - val_loss: 2.6382e-06\n",
      "Epoch 70/100\n",
      "500/500 [==============================] - 2s 5ms/step - loss: 7.3964e-06 - val_loss: 6.0894e-06\n",
      "Epoch 71/100\n",
      "500/500 [==============================] - 2s 4ms/step - loss: 5.6994e-06 - val_loss: 4.6742e-06\n",
      "Epoch 72/100\n",
      "500/500 [==============================] - 2s 4ms/step - loss: 5.2696e-06 - val_loss: 3.6250e-06\n",
      "Epoch 73/100\n",
      "500/500 [==============================] - 2s 5ms/step - loss: 5.4126e-06 - val_loss: 3.2818e-06\n",
      "Epoch 74/100\n",
      "500/500 [==============================] - 2s 5ms/step - loss: 6.5242e-06 - val_loss: 4.3690e-06\n",
      "Epoch 75/100\n"
     ]
    },
    {
     "name": "stdout",
     "output_type": "stream",
     "text": [
      "500/500 [==============================] - 2s 4ms/step - loss: 6.4201e-06 - val_loss: 6.4750e-06\n",
      "Epoch 76/100\n",
      "500/500 [==============================] - 2s 4ms/step - loss: 6.3860e-06 - val_loss: 5.3147e-06\n",
      "Epoch 77/100\n",
      "500/500 [==============================] - 2s 4ms/step - loss: 7.5792e-06 - val_loss: 5.6106e-06\n",
      "Epoch 78/100\n",
      "500/500 [==============================] - 2s 4ms/step - loss: 5.8895e-06 - val_loss: 3.7783e-06\n",
      "Epoch 79/100\n",
      "500/500 [==============================] - 2s 4ms/step - loss: 4.6369e-06 - val_loss: 4.9807e-06\n",
      "Epoch 80/100\n",
      "500/500 [==============================] - 2s 4ms/step - loss: 5.6686e-06 - val_loss: 5.2940e-06\n",
      "Epoch 81/100\n",
      "500/500 [==============================] - 2s 4ms/step - loss: 6.4398e-06 - val_loss: 3.7139e-06\n",
      "Epoch 82/100\n",
      "500/500 [==============================] - 2s 4ms/step - loss: 7.0889e-06 - val_loss: 8.9315e-06\n",
      "Epoch 83/100\n",
      "500/500 [==============================] - 2s 4ms/step - loss: 5.7190e-06 - val_loss: 2.9875e-06\n",
      "Epoch 84/100\n",
      "500/500 [==============================] - 2s 4ms/step - loss: 8.2771e-06 - val_loss: 3.4879e-06\n",
      "Epoch 85/100\n",
      "500/500 [==============================] - 2s 4ms/step - loss: 4.8102e-06 - val_loss: 6.3026e-06\n",
      "Epoch 86/100\n",
      "500/500 [==============================] - 2s 4ms/step - loss: 5.7163e-06 - val_loss: 3.1327e-06\n",
      "Epoch 87/100\n",
      "500/500 [==============================] - 2s 4ms/step - loss: 4.8815e-06 - val_loss: 3.7265e-06\n",
      "Epoch 88/100\n",
      "500/500 [==============================] - 2s 4ms/step - loss: 5.2120e-06 - val_loss: 2.9353e-06\n",
      "Epoch 89/100\n",
      "500/500 [==============================] - 2s 4ms/step - loss: 4.9846e-06 - val_loss: 2.3938e-05\n",
      "Epoch 90/100\n",
      "500/500 [==============================] - 2s 4ms/step - loss: 5.1479e-06 - val_loss: 7.0455e-06\n",
      "Epoch 91/100\n",
      "500/500 [==============================] - 2s 4ms/step - loss: 5.0435e-06 - val_loss: 4.3617e-06\n",
      "Epoch 92/100\n",
      "500/500 [==============================] - 2s 4ms/step - loss: 5.7115e-06 - val_loss: 2.9548e-06\n",
      "Epoch 93/100\n",
      "500/500 [==============================] - 2s 4ms/step - loss: 4.3462e-06 - val_loss: 3.8528e-06\n",
      "Epoch 94/100\n",
      "500/500 [==============================] - 2s 4ms/step - loss: 5.5858e-06 - val_loss: 2.9767e-06\n",
      "Epoch 95/100\n",
      "500/500 [==============================] - 2s 4ms/step - loss: 5.1722e-06 - val_loss: 1.0668e-05\n",
      "Epoch 96/100\n",
      "500/500 [==============================] - 2s 4ms/step - loss: 4.2953e-06 - val_loss: 2.9236e-06\n",
      "Epoch 97/100\n",
      "500/500 [==============================] - 2s 4ms/step - loss: 6.4816e-06 - val_loss: 6.3027e-06\n",
      "Epoch 98/100\n",
      "500/500 [==============================] - 2s 4ms/step - loss: 4.4953e-06 - val_loss: 3.0965e-06\n",
      "Epoch 99/100\n",
      "500/500 [==============================] - 2s 4ms/step - loss: 4.0103e-06 - val_loss: 2.9098e-06\n",
      "Epoch 100/100\n",
      "500/500 [==============================] - 2s 4ms/step - loss: 6.5109e-06 - val_loss: 1.0501e-05\n"
     ]
    }
   ],
   "source": [
    "history = nn_model.fit(X_train, y_train, epochs = 100, batch_size = 16, validation_data = (X_test, y_test))"
   ]
  },
  {
   "cell_type": "code",
   "execution_count": 55,
   "id": "f48d3d13",
   "metadata": {},
   "outputs": [
    {
     "name": "stdout",
     "output_type": "stream",
     "text": [
      "1/1 [==============================] - 0s 86ms/step\n"
     ]
    },
    {
     "data": {
      "text/plain": [
       "array([[0.03757279]], dtype=float32)"
      ]
     },
     "execution_count": 55,
     "metadata": {},
     "output_type": "execute_result"
    }
   ],
   "source": [
    "input_data = np.array([1.1, 0.5, 0.06, 0.3]) \n",
    "input_data = input_data.reshape(1,-1)\n",
    "nn_model.predict(input_data)"
   ]
  },
  {
   "cell_type": "code",
   "execution_count": 56,
   "id": "f43c254f",
   "metadata": {},
   "outputs": [
    {
     "data": {
      "text/plain": [
       "0.038962106005657464"
      ]
     },
     "execution_count": 56,
     "metadata": {},
     "output_type": "execute_result"
    }
   ],
   "source": [
    " BinOP.valueBinOp(0.06, 0.3, 1.1, 0.5, 1, 'P', 'A', 32, gamma_par = 1) "
   ]
  }
 ],
 "metadata": {
  "kernelspec": {
   "display_name": "Python 3 (ipykernel)",
   "language": "python",
   "name": "python3"
  },
  "language_info": {
   "codemirror_mode": {
    "name": "ipython",
    "version": 3
   },
   "file_extension": ".py",
   "mimetype": "text/x-python",
   "name": "python",
   "nbconvert_exporter": "python",
   "pygments_lexer": "ipython3",
   "version": "3.9.13"
  }
 },
 "nbformat": 4,
 "nbformat_minor": 5
}
